{
 "cells": [
  {
   "cell_type": "code",
   "execution_count": null,
   "metadata": {},
   "outputs": [],
   "source": [
    "# Using python 3.9\n",
    "! pip install python-louvain \n",
    "! pip3 install --upgrade networkx"
   ]
  },
  {
   "cell_type": "code",
   "execution_count": null,
   "metadata": {},
   "outputs": [],
   "source": [
    "import networkx as nx\n",
    "import community.community_louvain as community_louvain\n",
    "import csv"
   ]
  },
  {
   "cell_type": "code",
   "execution_count": null,
   "metadata": {},
   "outputs": [],
   "source": [
    "# store group node and node info list\n",
    "node_groups = []\n",
    "node_list = []\n"
   ]
  },
  {
   "cell_type": "code",
   "execution_count": null,
   "metadata": {},
   "outputs": [],
   "source": [
    "# load train data\n",
    "with open(\"./datasets/train.csv\") as train_data:\n",
    "    rows = csv.reader(train_data)\n",
    "    next(rows)  \n",
    "    G = nx.Graph()  \n",
    "    for row in rows:\n",
    "        node_list.append(row)  \n",
    "    G.add_edges_from(node_list)  \n",
    "\n",
    "# Using Louvain algo to do clustering\n",
    "    partition = community_louvain.best_partition(G) \n",
    "\n",
    "# store result to communities.csv\n",
    "    with open(\"community_info.csv\", 'w', newline='') as community:\n",
    "        community_row = csv.writer(community)  \n",
    "        for key, value in partition.items():\n",
    "            community_row.writerow([key, value])  \n",
    "            \n"
   ]
  },
  {
   "cell_type": "code",
   "execution_count": null,
   "metadata": {},
   "outputs": [],
   "source": [
    "print('\\nSize of graph, i.e. number of edges:', G.size())"
   ]
  },
  {
   "cell_type": "code",
   "execution_count": null,
   "metadata": {},
   "outputs": [],
   "source": [
    "with open(\"community_info.csv\") as data:\n",
    "    rows = csv.reader(data)\n",
    "    dic = {row[0]: row[1] for row in rows}"
   ]
  },
  {
   "cell_type": "code",
   "execution_count": null,
   "metadata": {},
   "outputs": [],
   "source": [
    "# creat ans.csv to store result\n",
    "ans_file = open('ans.csv', 'w', newline='') \n",
    "writer = csv.writer(ans_file)  "
   ]
  },
  {
   "cell_type": "code",
   "execution_count": null,
   "metadata": {},
   "outputs": [],
   "source": [
    "with open(\"./datasets/test.csv\") as test_data:\n",
    "\trows = csv.reader(test_data)\n",
    "\tnext(rows)  \n",
    "\tindex = 0\n",
    "\tfor row in rows:\n",
    "\t\tnode_groups.append(list(row)) \n",
    "\twriter.writerow(['Id','Category']) \n",
    " \n",
    "# write predict result into ans.csv：\n",
    "\tfor node in node_groups:\n",
    "\t\tif dic[node[1]] == dic[node[2]]: \n",
    "\t\t\twriter.writerow([index,'1']) \n",
    "\t\t\tprint(\"1\")\n",
    "\t\telse:\n",
    "\t\t\twriter.writerow([index,'0'])  \n",
    "\t\t\tprint(\"0\")\n",
    "\t\tindex += 1\n",
    "print(\"index = \",index)\n",
    "print(\"Finished~\")\n",
    "file.close()\n"
   ]
  }
 ],
 "metadata": {
  "kernelspec": {
   "display_name": "Python 3.9.16 ('link_prediction')",
   "language": "python",
   "name": "python3"
  },
  "language_info": {
   "codemirror_mode": {
    "name": "ipython",
    "version": 3
   },
   "file_extension": ".py",
   "mimetype": "text/x-python",
   "name": "python",
   "nbconvert_exporter": "python",
   "pygments_lexer": "ipython3",
   "version": "3.9.16"
  },
  "orig_nbformat": 4,
  "vscode": {
   "interpreter": {
    "hash": "054fdd40adeb9885c536ff792a5b823f0da9ccf927a3c607771d3fbac2b5c202"
   }
  }
 },
 "nbformat": 4,
 "nbformat_minor": 2
}
